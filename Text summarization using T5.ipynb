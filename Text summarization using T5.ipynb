{
 "cells": [
  {
   "cell_type": "code",
   "execution_count": 2,
   "metadata": {},
   "outputs": [],
   "source": [
    "#%pip install transformers"
   ]
  },
  {
   "cell_type": "code",
   "execution_count": 3,
   "metadata": {},
   "outputs": [
    {
     "name": "stderr",
     "output_type": "stream",
     "text": [
      "c:\\Users\\rites\\.conda\\envs\\venv1\\Lib\\site-packages\\tqdm\\auto.py:21: TqdmWarning: IProgress not found. Please update jupyter and ipywidgets. See https://ipywidgets.readthedocs.io/en/stable/user_install.html\n",
      "  from .autonotebook import tqdm as notebook_tqdm\n"
     ]
    }
   ],
   "source": [
    "from transformers import T5Tokenizer,T5ForConditionalGeneration"
   ]
  },
  {
   "cell_type": "code",
   "execution_count": 4,
   "metadata": {},
   "outputs": [],
   "source": [
    "#%pip install sentencepiece"
   ]
  },
  {
   "cell_type": "code",
   "execution_count": 5,
   "metadata": {},
   "outputs": [],
   "source": [
    "#!pip3 install torch torchvision torchaudio"
   ]
  },
  {
   "cell_type": "code",
   "execution_count": 6,
   "metadata": {},
   "outputs": [
    {
     "name": "stderr",
     "output_type": "stream",
     "text": [
      "You are using the default legacy behaviour of the <class 'transformers.models.t5.tokenization_t5.T5Tokenizer'>. This is expected, and simply means that the `legacy` (previous) behavior will be used so nothing changes for you. If you want to use the new behaviour, set `legacy=False`. This should only be set if you understand what it means, and thoroughly read the reason why this was added as explained in https://github.com/huggingface/transformers/pull/24565\n",
      "c:\\Users\\rites\\.conda\\envs\\venv1\\Lib\\site-packages\\huggingface_hub\\file_download.py:140: UserWarning: `huggingface_hub` cache-system uses symlinks by default to efficiently store duplicated files but your machine does not support them in C:\\Users\\rites\\.cache\\huggingface\\hub\\models--t5-small. Caching files will still work but in a degraded version that might require more space on your disk. This warning can be disabled by setting the `HF_HUB_DISABLE_SYMLINKS_WARNING` environment variable. For more details, see https://huggingface.co/docs/huggingface_hub/how-to-cache#limitations.\n",
      "To support symlinks on Windows, you either need to activate Developer Mode or to run Python as an administrator. In order to activate developer mode, see this article: https://docs.microsoft.com/en-us/windows/apps/get-started/enable-your-device-for-development\n",
      "  warnings.warn(message)\n"
     ]
    }
   ],
   "source": [
    "model_name = \"t5-small\"\n",
    "\n",
    "tokenizer = T5Tokenizer.from_pretrained(model_name)\n",
    "model = T5ForConditionalGeneration.from_pretrained(model_name)"
   ]
  },
  {
   "cell_type": "code",
   "execution_count": 8,
   "metadata": {},
   "outputs": [],
   "source": [
    "text = \"\"\"\n",
    "T5 (Text-to-Text Transfer Transformer) is a series of large language models developed by Google AI introduced in 2019.\n",
    "Like the original Transformer model,T5 models are encoder-decoder Transformers, where the encoder processes the input text, \n",
    "and the decoder generates the output text.T5 models are usually pretrained on a massive dataset of text and code, \n",
    "after which they can perform the text-based tasks that are similar to their pretrained tasks. They can also be finetuned \n",
    "to perform other tasks.T5 models have been employed in various applications, including chatbots, machine translation systems, \n",
    "text summarization tools, code generation, and robotics.\n",
    "\"\"\""
   ]
  },
  {
   "cell_type": "code",
   "execution_count": 9,
   "metadata": {},
   "outputs": [],
   "source": [
    "input_text = \"summarize: \" + text"
   ]
  },
  {
   "cell_type": "code",
   "execution_count": 10,
   "metadata": {},
   "outputs": [],
   "source": [
    "input_ids = tokenizer.encode(input_text,\n",
    "                             return_tensors = \"pt\",\n",
    "                             max_length = 512,\n",
    "                             truncation=True)"
   ]
  },
  {
   "cell_type": "code",
   "execution_count": 14,
   "metadata": {},
   "outputs": [
    {
     "data": {
      "text/plain": [
       "tensor([[21603,    10,   332,   755,    41, 13598,    17,    18,   235,    18,\n",
       "         13598,    17,  9900, 31220,    61,    19,     3,     9,   939,    13,\n",
       "           508,  1612,  2250,  1597,    57,  1163,  7833,  3665,    16,  4144,\n",
       "          2792,     8,   926, 31220,   825,     6,   382,   755,  2250,    33,\n",
       "         23734,    52,    18,   221,  4978,    52, 31220,     7,     6,   213,\n",
       "             8, 23734,    52,  2842,     8,  3785,  1499,     6,    11,     8,\n",
       "            20,  4978,    52,  3806,     7,     8,  3911,  1499,     5,   382,\n",
       "           755,  2250,    33,  1086,  7140, 10761,    30,     3,     9,  3805,\n",
       "         17953,    13,  1499,    11,  1081,     6,   227,    84,    79,    54,\n",
       "          1912,     8,  1499,    18,   390,  4145,    24,    33,  1126,    12,\n",
       "            70,  7140, 10761,  4145,     5,   328,    54,    92,    36,  1399,\n",
       "            17,   444,    26,    12,  1912,   119,  4145,     5,   382,   755,\n",
       "          2250,    43,   118,  8152,    16,   796,  1564,     6,   379,  3582,\n",
       "          4045,     7,     6,  1437,  7314,  1002,     6,  1499,  4505,  1635,\n",
       "          1707,  1339,     6,  1081,  3381,     6,    11, 20407,     7,     5,\n",
       "             1]])"
      ]
     },
     "execution_count": 14,
     "metadata": {},
     "output_type": "execute_result"
    }
   ],
   "source": [
    "input_ids"
   ]
  },
  {
   "cell_type": "code",
   "execution_count": 22,
   "metadata": {},
   "outputs": [],
   "source": [
    "summary_ids = model.generate(input_ids,\n",
    "                             max_length=250,\n",
    "                             num_beams=4,\n",
    "                             length_penalty=2.0,\n",
    "                             early_stopping=True)"
   ]
  },
  {
   "cell_type": "code",
   "execution_count": 23,
   "metadata": {},
   "outputs": [],
   "source": [
    "# summary_ids.type()"
   ]
  },
  {
   "cell_type": "code",
   "execution_count": 24,
   "metadata": {},
   "outputs": [],
   "source": [
    "summary = tokenizer.decode(summary_ids[0],skip_special_tokens=True)"
   ]
  },
  {
   "cell_type": "code",
   "execution_count": 25,
   "metadata": {},
   "outputs": [
    {
     "name": "stdout",
     "output_type": "stream",
     "text": [
      "Summary: T5 (Text-to-Text Transfer Transformer) is a series of large language models developed by Google AI introduced in 2019. like the original Transformer model,T5 models are encoder-decoder Transformers. they can perform the text-based tasks that are similar to their pretrained tasks.\n"
     ]
    }
   ],
   "source": [
    "print(\"Summary: \"+summary)"
   ]
  },
  {
   "cell_type": "code",
   "execution_count": null,
   "metadata": {},
   "outputs": [],
   "source": []
  }
 ],
 "metadata": {
  "kernelspec": {
   "display_name": "venv1",
   "language": "python",
   "name": "python3"
  },
  "language_info": {
   "codemirror_mode": {
    "name": "ipython",
    "version": 3
   },
   "file_extension": ".py",
   "mimetype": "text/x-python",
   "name": "python",
   "nbconvert_exporter": "python",
   "pygments_lexer": "ipython3",
   "version": "3.12.7"
  }
 },
 "nbformat": 4,
 "nbformat_minor": 2
}
